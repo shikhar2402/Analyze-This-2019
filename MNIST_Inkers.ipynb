{
  "nbformat": 4,
  "nbformat_minor": 0,
  "metadata": {
    "colab": {
      "name": "MNIST_Inkers.ipynb",
      "provenance": [],
      "authorship_tag": "ABX9TyP9jhz9rUAHT90p/7FVHzhT",
      "include_colab_link": true
    },
    "kernelspec": {
      "name": "python3",
      "display_name": "Python 3"
    }
  },
  "cells": [
    {
      "cell_type": "markdown",
      "metadata": {
        "id": "view-in-github",
        "colab_type": "text"
      },
      "source": [
        "<a href=\"https://colab.research.google.com/github/shikhar2402/Analyze-This-2019/blob/master/MNIST_Inkers.ipynb\" target=\"_parent\"><img src=\"https://colab.research.google.com/assets/colab-badge.svg\" alt=\"Open In Colab\"/></a>"
      ]
    },
    {
      "cell_type": "code",
      "metadata": {
        "id": "EicLfiofrnKA",
        "colab_type": "code",
        "colab": {}
      },
      "source": [
        "from keras.datasets import mnist"
      ],
      "execution_count": 0,
      "outputs": []
    },
    {
      "cell_type": "code",
      "metadata": {
        "id": "3fHSUpJIrw2-",
        "colab_type": "code",
        "colab": {
          "base_uri": "https://localhost:8080/",
          "height": 284
        },
        "outputId": "71f05d82-0311-4e90-e1a2-bd86d7a56d39"
      },
      "source": [
        "import numpy as np\n",
        "import matplotlib\n",
        "import matplotlib.pyplot as plt\n",
        "\n",
        "(X_train, y_train), (X_test, y_test) = mnist.load_data()\n",
        "\n",
        "fig = plt.figure()\n",
        "for i in range(9):\n",
        "  plt.subplot(3,3,i+1)\n",
        "  plt.tight_layout()\n",
        "  plt.imshow(X_train[i], cmap='gray', interpolation='none')\n",
        "  plt.title(\"Digits: {}\".format(y_train[i]))\n",
        "  plt.xticks([])\n",
        "  plt.yticks([])\n",
        "fig"
      ],
      "execution_count": 122,
      "outputs": [
        {
          "output_type": "execute_result",
          "data": {
            "image/png": "[encoded data removed]",
            "text/plain": [
              "<Figure size 432x288 with 9 Axes>"
            ]
          },
          "metadata": {
            "tags": []
          },
          "execution_count": 122
        }
      ]
    },
    {
      "cell_type": "code",
      "metadata": {
        "id": "LiXrZ3S7sOUH",
        "colab_type": "code",
        "colab": {
          "base_uri": "https://localhost:8080/",
          "height": 118
        },
        "outputId": "610f9707-90a6-482d-a372-4173bb62ce14"
      },
      "source": [
        "# let's print the shape before we reshape and normalize\n",
        "print(\"X_train shape\", X_train.shape)\n",
        "print(\"y_train shape\", y_train.shape)\n",
        "print(\"X_test shape\", X_test.shape)\n",
        "print(\"y_test shape\", y_test.shape)\n",
        "\n",
        "# building the input vector from the 28x28 pixels\n",
        "X_train = X_train.reshape(60000, 784)\n",
        "X_test = X_test.reshape(10000, 784)\n",
        "X_train = X_train.astype('float32')\n",
        "X_test = X_test.astype('float32')\n",
        "\n",
        "# normalizing the data to help with the training\n",
        "X_train /= 255\n",
        "X_test /= 255\n",
        "\n",
        "# print the final input shape ready for training\n",
        "print(\"Train matrix shape\", X_train.shape)\n",
        "print(\"Test matrix shape\", X_test.shape)"
      ],
      "execution_count": 123,
      "outputs": [
        {
          "output_type": "stream",
          "text": [
            "X_train shape (60000, 28, 28)\n",
            "y_train shape (60000,)\n",
            "X_test shape (10000, 28, 28)\n",
            "y_test shape (10000,)\n",
            "Train matrix shape (60000, 784)\n",
            "Test matrix shape (10000, 784)\n"
          ],
          "name": "stdout"
        }
      ]
    },
    {
      "cell_type": "code",
      "metadata": {
        "id": "LsukGly-sSpc",
        "colab_type": "code",
        "colab": {
          "base_uri": "https://localhost:8080/",
          "height": 34
        },
        "outputId": "6f0b525d-519b-44ca-c668-7a6c5dc66af8"
      },
      "source": [
        "print(np.unique(y_train, return_counts=True))"
      ],
      "execution_count": 124,
      "outputs": [
        {
          "output_type": "stream",
          "text": [
            "(array([0, 1, 2, 3, 4, 5, 6, 7, 8, 9], dtype=uint8), array([5923, 6742, 5958, 6131, 5842, 5421, 5918, 6265, 5851, 5949]))\n"
          ],
          "name": "stdout"
        }
      ]
    },
    {
      "cell_type": "code",
      "metadata": {
        "id": "cNoaE31csiAh",
        "colab_type": "code",
        "colab": {}
      },
      "source": [
        "from keras.datasets import mnist\n",
        "from keras.models import Sequential, load_model\n",
        "from keras.layers.core import Dense, Dropout, Activation\n",
        "from keras.utils import np_utils"
      ],
      "execution_count": 0,
      "outputs": []
    },
    {
      "cell_type": "code",
      "metadata": {
        "id": "p8OAyHUdsWpr",
        "colab_type": "code",
        "colab": {
          "base_uri": "https://localhost:8080/",
          "height": 50
        },
        "outputId": "c5172be0-0abd-4c0c-889a-e9db8ef71557"
      },
      "source": [
        "n_classes = 10\n",
        "print(\"Shape before one-hot encoding: \", y_train.shape)\n",
        "Y_train = np_utils.to_categorical(y_train, n_classes)\n",
        "Y_test = np_utils.to_categorical(y_test, n_classes)\n",
        "print(\"Shape after one-hot encoding: \", Y_train.shape)"
      ],
      "execution_count": 126,
      "outputs": [
        {
          "output_type": "stream",
          "text": [
            "Shape before one-hot encoding:  (60000,)\n",
            "Shape after one-hot encoding:  (60000, 10)\n"
          ],
          "name": "stdout"
        }
      ]
    },
    {
      "cell_type": "code",
      "metadata": {
        "id": "pUKj4wppsaj6",
        "colab_type": "code",
        "colab": {}
      },
      "source": [
        "model = Sequential()\n",
        "model.add(Dense(512, input_shape=(784,)))\n",
        "model.add(Activation('relu'))                            \n",
        "model.add(Dropout(0.2))\n",
        "\n",
        "model.add(Dense(512))\n",
        "model.add(Activation('relu'))\n",
        "model.add(Dropout(0.2))\n",
        "\n",
        "model.add(Dense(10))\n",
        "model.add(Activation('softmax'))"
      ],
      "execution_count": 0,
      "outputs": []
    },
    {
      "cell_type": "code",
      "metadata": {
        "id": "VOQgd54RPTRq",
        "colab_type": "code",
        "colab": {
          "base_uri": "https://localhost:8080/",
          "height": 420
        },
        "outputId": "60ca447c-ed89-45f1-ef24-1d62b4765230"
      },
      "source": [
        "model.summary()"
      ],
      "execution_count": 132,
      "outputs": [
        {
          "output_type": "stream",
          "text": [
            "Model: \"sequential_15\"\n",
            "_________________________________________________________________\n",
            "Layer (type)                 Output Shape              Param #   \n",
            "=================================================================\n",
            "dense_36 (Dense)             (None, 512)               401920    \n",
            "_________________________________________________________________\n",
            "activation_31 (Activation)   (None, 512)               0         \n",
            "_________________________________________________________________\n",
            "dropout_22 (Dropout)         (None, 512)               0         \n",
            "_________________________________________________________________\n",
            "dense_37 (Dense)             (None, 512)               262656    \n",
            "_________________________________________________________________\n",
            "activation_32 (Activation)   (None, 512)               0         \n",
            "_________________________________________________________________\n",
            "dropout_23 (Dropout)         (None, 512)               0         \n",
            "_________________________________________________________________\n",
            "dense_38 (Dense)             (None, 10)                5130      \n",
            "_________________________________________________________________\n",
            "activation_33 (Activation)   (None, 10)                0         \n",
            "=================================================================\n",
            "Total params: 669,706\n",
            "Trainable params: 669,706\n",
            "Non-trainable params: 0\n",
            "_________________________________________________________________\n"
          ],
          "name": "stdout"
        }
      ]
    },
    {
      "cell_type": "markdown",
      "metadata": {
        "id": "pOiWb-XCtAB3",
        "colab_type": "text"
      },
      "source": [
        "#No of trainable parameters =====>>>>> 594,922\n"
      ]
    },
    {
      "cell_type": "code",
      "metadata": {
        "id": "J0YxGObUr2HU",
        "colab_type": "code",
        "colab": {}
      },
      "source": [
        "model.compile(loss='categorical_crossentropy', metrics=['accuracy'], optimizer='adam')"
      ],
      "execution_count": 0,
      "outputs": []
    },
    {
      "cell_type": "code",
      "metadata": {
        "id": "l-DRiYXtsqwX",
        "colab_type": "code",
        "colab": {
          "base_uri": "https://localhost:8080/",
          "height": 706
        },
        "outputId": "cd35077f-7928-46fb-acbe-e863fb0d8d24"
      },
      "source": [
        "# training the model and saving metrics in history\n",
        "history = model.fit(X_train, Y_train,\n",
        "          batch_size=150, epochs=20,\n",
        "          verbose=2,\n",
        "          validation_data=(X_test, Y_test))"
      ],
      "execution_count": 129,
      "outputs": [
        {
          "output_type": "stream",
          "text": [
            "Train on 60000 samples, validate on 10000 samples\n",
            "Epoch 1/20\n",
            " - 8s - loss: 0.2636 - accuracy: 0.9211 - val_loss: 0.1101 - val_accuracy: 0.9662\n",
            "Epoch 2/20\n",
            " - 8s - loss: 0.1054 - accuracy: 0.9672 - val_loss: 0.0802 - val_accuracy: 0.9755\n",
            "Epoch 3/20\n",
            " - 8s - loss: 0.0724 - accuracy: 0.9772 - val_loss: 0.0706 - val_accuracy: 0.9768\n",
            "Epoch 4/20\n",
            " - 8s - loss: 0.0556 - accuracy: 0.9826 - val_loss: 0.0779 - val_accuracy: 0.9740\n",
            "Epoch 5/20\n",
            " - 8s - loss: 0.0449 - accuracy: 0.9851 - val_loss: 0.0667 - val_accuracy: 0.9792\n",
            "Epoch 6/20\n",
            " - 8s - loss: 0.0376 - accuracy: 0.9877 - val_loss: 0.0645 - val_accuracy: 0.9797\n",
            "Epoch 7/20\n",
            " - 8s - loss: 0.0337 - accuracy: 0.9888 - val_loss: 0.0714 - val_accuracy: 0.9805\n",
            "Epoch 8/20\n",
            " - 8s - loss: 0.0290 - accuracy: 0.9902 - val_loss: 0.0604 - val_accuracy: 0.9825\n",
            "Epoch 9/20\n",
            " - 8s - loss: 0.0266 - accuracy: 0.9910 - val_loss: 0.0631 - val_accuracy: 0.9820\n",
            "Epoch 10/20\n",
            " - 8s - loss: 0.0245 - accuracy: 0.9920 - val_loss: 0.0667 - val_accuracy: 0.9811\n",
            "Epoch 11/20\n",
            " - 8s - loss: 0.0222 - accuracy: 0.9923 - val_loss: 0.0735 - val_accuracy: 0.9821\n",
            "Epoch 12/20\n",
            " - 8s - loss: 0.0199 - accuracy: 0.9930 - val_loss: 0.0743 - val_accuracy: 0.9830\n",
            "Epoch 13/20\n",
            " - 8s - loss: 0.0199 - accuracy: 0.9931 - val_loss: 0.0783 - val_accuracy: 0.9809\n",
            "Epoch 14/20\n",
            " - 8s - loss: 0.0188 - accuracy: 0.9933 - val_loss: 0.0675 - val_accuracy: 0.9841\n",
            "Epoch 15/20\n",
            " - 8s - loss: 0.0192 - accuracy: 0.9935 - val_loss: 0.0738 - val_accuracy: 0.9813\n",
            "Epoch 16/20\n",
            " - 8s - loss: 0.0166 - accuracy: 0.9943 - val_loss: 0.0787 - val_accuracy: 0.9830\n",
            "Epoch 17/20\n",
            " - 8s - loss: 0.0165 - accuracy: 0.9944 - val_loss: 0.0772 - val_accuracy: 0.9824\n",
            "Epoch 18/20\n",
            " - 8s - loss: 0.0142 - accuracy: 0.9950 - val_loss: 0.0753 - val_accuracy: 0.9834\n",
            "Epoch 19/20\n",
            " - 8s - loss: 0.0150 - accuracy: 0.9952 - val_loss: 0.0760 - val_accuracy: 0.9821\n",
            "Epoch 20/20\n",
            " - 8s - loss: 0.0156 - accuracy: 0.9949 - val_loss: 0.0886 - val_accuracy: 0.9808\n"
          ],
          "name": "stdout"
        }
      ]
    },
    {
      "cell_type": "code",
      "metadata": {
        "id": "DvACPWNWuxpY",
        "colab_type": "code",
        "colab": {
          "base_uri": "https://localhost:8080/",
          "height": 50
        },
        "outputId": "60cd30bf-ac4f-4ed2-add8-a175ecaba1f1"
      },
      "source": [
        "loss_and_metrics = model.evaluate(X_test, Y_test, verbose=2)\n",
        "\n",
        "print(\"Test Loss\", loss_and_metrics[0])\n",
        "print(\"Test Accuracy\", loss_and_metrics[1])"
      ],
      "execution_count": 130,
      "outputs": [
        {
          "output_type": "stream",
          "text": [
            "Test Loss 0.08860748256827344\n",
            "Test Accuracy 0.9807999730110168\n"
          ],
          "name": "stdout"
        }
      ]
    },
    {
      "cell_type": "code",
      "metadata": {
        "id": "_Rp7taYxt6dH",
        "colab_type": "code",
        "colab": {
          "base_uri": "https://localhost:8080/",
          "height": 182
        },
        "outputId": "85c1ad51-5dd5-4c87-cbc6-e0595761faa8"
      },
      "source": [
        "fig = plt.figure()\n",
        "plt.subplot(2,1,2)\n",
        "plt.plot(history.history['loss'])\n",
        "plt.plot(history.history['val_loss'])\n",
        "plt.title('model loss')\n",
        "plt.ylabel('loss')\n",
        "plt.xlabel('epoch')\n",
        "plt.legend(['train', 'test'], loc='upper right')\n",
        "\n",
        "plt.tight_layout()\n",
        "\n",
        "fig"
      ],
      "execution_count": 131,
      "outputs": [
        {
          "output_type": "execute_result",
          "data": {
            "image/png": "[encoded data removed]",
            "text/plain": [
              "<Figure size 432x288 with 1 Axes>"
            ]
          },
          "metadata": {
            "tags": []
          },
          "execution_count": 131
        }
      ]
    }
  ]
}